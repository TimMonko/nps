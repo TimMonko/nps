{
 "cells": [
  {
   "cell_type": "code",
   "execution_count": 1,
   "id": "220a9d8c",
   "metadata": {},
   "outputs": [],
   "source": [
    "import pandas as pd\n",
    "import numpy as np\n",
    "import seaborn.objects as so\n",
    "import json\n",
    "from pathlib import Path\n",
    "from nps import io\n"
   ]
  },
  {
   "cell_type": "markdown",
   "id": "27adcc32",
   "metadata": {},
   "source": [
    "## File Structure\n",
    "\n",
    "in npe2api:\n",
    "- public/\n",
    "  - conda/ # specific files for each conda package\n",
    "  - github/ # branch, issues, PRs, forks, stars, archived, last commit, etc <-- seems quite out of date\n",
    "  - manifest/ # contains the napari.yaml manifests for each plugin\n",
    "  - pypi/ # specific files\n",
    "    - trove classifer\n",
    "    - author\n",
    "    - downloads?? maybe\n",
    "    - release history\n",
    "    - license\n",
    "    - requirements\n",
    "    - requires_python\n",
    "    - recent release\n",
    "- classifiers.json # active or withdraw, what pypi versions exist, and the name\n",
    "- extended_summary.json # summary of:\n",
    "  - name\n",
    "  - current version\n",
    "  - pypi versions\n",
    "  - author\n",
    "  - license\n",
    "  - links\n",
    "\n",
    "So it looks like I will need to investigate classifiers and extended summary for some basic info, but then crawl specifically each pypi file for more detailed info (like python version, dependences, etc)."
   ]
  },
  {
   "cell_type": "code",
   "execution_count": 3,
   "id": "6ff01f2b",
   "metadata": {},
   "outputs": [],
   "source": [
    "NPE2API_DATA = Path(\"../npe2api/public\")\n",
    "OUTPUT_DIR = Path(\"reports\")\n",
    "OUTPUT_DIR.mkdir(exist_ok=True)\n",
    "\n",
    "if NPE2API_DATA.exists():\n",
    "    pypi_files = list(NPE2API_DATA.glob(\"pypi/*.json\"))\n",
    "    conda_files = list(NPE2API_DATA.glob(\"conda/*.json\"))\n",
    "    summary_df = io.load_json(NPE2API_DATA / \"extended_summary.json\")\n",
    "\n"
   ]
  }
 ],
 "metadata": {
  "kernelspec": {
   "display_name": "plugin-sustainability (3.13.1)",
   "language": "python",
   "name": "python3"
  },
  "language_info": {
   "codemirror_mode": {
    "name": "ipython",
    "version": 3
   },
   "file_extension": ".py",
   "mimetype": "text/x-python",
   "name": "python",
   "nbconvert_exporter": "python",
   "pygments_lexer": "ipython3",
   "version": "3.13.1"
  }
 },
 "nbformat": 4,
 "nbformat_minor": 5
}

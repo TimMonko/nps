{
 "cells": [
  {
   "cell_type": "code",
   "execution_count": 1,
   "id": "220a9d8c",
   "metadata": {},
   "outputs": [],
   "source": [
    "import pandas as pd\n",
    "import numpy as np\n",
    "import seaborn.objects as so\n",
    "import json\n",
    "from pathlib import Path\n",
    "from nps import io\n"
   ]
  },
  {
   "cell_type": "markdown",
   "id": "27adcc32",
   "metadata": {},
   "source": [
    "## File Structure\n",
    "\n",
    "in npe2api:\n",
    "- public/\n",
    "  - conda/ # specific files for each conda package\n",
    "  - github/ # branch, issues, PRs, forks, stars, archived, last commit, etc <-- seems quite out of date\n",
    "  - manifest/ # contains the napari.yaml manifests for each plugin\n",
    "  - pypi/ # specific files\n",
    "    - trove classifer\n",
    "    - author\n",
    "    - downloads?? maybe\n",
    "    - release history\n",
    "    - license\n",
    "    - requirements\n",
    "    - requires_python\n",
    "    - recent release\n",
    "- classifiers.json # active or withdraw, what pypi versions exist, and the name\n",
    "- extended_summary.json # summary of:\n",
    "  - name\n",
    "  - current version\n",
    "  - pypi versions\n",
    "  - author\n",
    "  - license\n",
    "  - links\n",
    "  - seems to exclude withdrawn or deleted plugins\n",
    "\n",
    "So it looks like I will need to investigate classifiers and extended summary for some basic info, but then crawl specifically each pypi file for more detailed info (like python version, dependences, etc)."
   ]
  },
  {
   "cell_type": "code",
   "execution_count": 2,
   "id": "6ff01f2b",
   "metadata": {},
   "outputs": [],
   "source": [
    "NPE2API_DATA = Path(\"../npe2api/public\")\n",
    "OUTPUT_DIR = Path(\"reports\")\n",
    "OUTPUT_DIR.mkdir(exist_ok=True)\n",
    "\n",
    "if NPE2API_DATA.exists():\n",
    "    pypi_files = list(NPE2API_DATA.glob(\"pypi/*.json\"))\n",
    "    conda_files = list(NPE2API_DATA.glob(\"conda/*.json\"))\n",
    "    summary_df = io.load_json_as_dataframe(NPE2API_DATA / \"extended_summary.json\")\n",
    "    classifiers_df = io.load_json_as_dataframe(NPE2API_DATA / \"classifiers.json\")\n",
    "\n"
   ]
  },
  {
   "cell_type": "code",
   "execution_count": 4,
   "id": "246e3a38",
   "metadata": {},
   "outputs": [
    {
     "data": {
      "application/vnd.microsoft.datawrangler.viewer.v0+json": {
       "columns": [
        {
         "name": "index",
         "rawType": "object",
         "type": "string"
        },
        {
         "name": "count",
         "rawType": "int64",
         "type": "integer"
        }
       ],
       "ref": "318871d5-4f88-4b67-87a3-4b3703c621a0",
       "rows": [
        [
         "active",
         "573"
        ],
        [
         "withdrawn",
         "33"
        ]
       ],
       "shape": {
        "columns": 1,
        "rows": 2
       }
      },
      "text/plain": [
       "active       573\n",
       "withdrawn     33\n",
       "Name: count, dtype: int64"
      ]
     },
     "execution_count": 4,
     "metadata": {},
     "output_type": "execute_result"
    }
   ],
   "source": [
    "for col in ['active', 'withdrawn', 'deleted']:\n",
    "    classifiers_df[col] = classifiers_df[col].fillna(False).astype(bool)\n",
    "\n",
    "classifiers_status = classifiers_df[['active', 'withdrawn', 'deleted']].idxmax(axis=1)\n",
    "# classifiers_status[classifiers_status != 'active']\n",
    "classifiers_status.value_counts()"
   ]
  },
  {
   "cell_type": "code",
   "execution_count": null,
   "id": "249fa4ea",
   "metadata": {},
   "outputs": [],
   "source": []
  }
 ],
 "metadata": {
  "kernelspec": {
   "display_name": "plugin-sustainability",
   "language": "python",
   "name": "python3"
  },
  "language_info": {
   "codemirror_mode": {
    "name": "ipython",
    "version": 3
   },
   "file_extension": ".py",
   "mimetype": "text/x-python",
   "name": "python",
   "nbconvert_exporter": "python",
   "pygments_lexer": "ipython3",
   "version": "3.13.0"
  }
 },
 "nbformat": 4,
 "nbformat_minor": 5
}
